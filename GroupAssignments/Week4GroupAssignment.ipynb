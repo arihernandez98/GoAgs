{
 "cells": [
  {
   "cell_type": "markdown",
   "id": "847292a8-75f1-4cd0-93dc-eb2aa978b72e",
   "metadata": {},
   "source": [
    " \n",
    "# Project title and link to proposal\n",
    "\n",
    "### Title: Mapping green gentrification and park equity in the City of Los Angeles\n",
    "\n",
    "**Link:** https://github.com/arihernandez98/GoAgs/tree/main/GroupAssignments \n",
    "\n",
    "\n",
    "**Roles (only for groups):** Give each team member a title, and define what role each team member will play, and how each person plans to contribute to the project. While this may be subject to change, it is a good idea to define this early in the project to clarify \"who is doing what.\"\n",
    "\n",
    "**Group Name:** GoAgs\n",
    "\n",
    "Ariana the Python Conjurer conjures up beautiful maps using the power of code.\n",
    "Ariana will be working with the tenure data from the Census and parks data from the Trust for Public Land. Ariana will be calculating the percent change of renters in the area using 2010 and 2019 data. She will be pulling this data from the ACS 5-year estimate. \n",
    "\n",
    "Sim the Python Sorcerer is trying her best.\n",
    "Sim will be working with housing price data from the Federal Housing Finance Agency\n",
    "Sim will be calculating the percent change of housing price index (HPI) for the census tracts in Los Angeles for the years 2010 and 2019.\n",
    "Though it would have been ideal to find HPI data for block groups, I was unable to find it. \n",
    "\n",
    "\n",
    "**Status update:** Report on the general mood of the team, and provide details as to what is working, and what is not.\n",
    "\n",
    "**Mood:** whimsical and silly with a tad of anxiety \n",
    "We like and respect one another and trust the other to do their work. We have split the data so that we each have one census variable to work with. We also facetime and text to solve any problems. \n",
    "We are each working on our individual assignments. We expect to put it all together in the upcoming weeks.\n",
    "\n",
    "**Data update:** Provide a short narrative on where you are with the data sources you will incorporate in your project. Provide links as necessary.\n",
    "\n",
    "**Data Source:**\n",
    "*Tenure:* ACS 5 year estimates from 2019 and 2010. We are looking at the percent change in renters.\n",
    "\n",
    "FHFA Annual  Housing Price Index by Census Tract which “is the nation’s only collection of public, freely available house price indexes that measure changes in single-family home values based on data from all 50 states and over 400 American cities that extend back to the mid-1970s”.\n",
    "\n",
    "*Parks:* The Trust for Public Land’s ParkScore Map which maps parks in metropolitan areas across the country.   \n",
    "\n",
    "\n",
    "**Concerns:** There should be a lot to be concerned about at this phase of the project. List those concerns and classify them as \"Major concerns\" and/or \"Minor concerns.\"\n",
    "\n",
    "Major: Having the coding ability to look at percent change in tenure and housing prices to make an assumption of parks and green gentrification. Finding the data for housing prices that will map out beautifully because I was not able to find it in block groups. \n",
    "\n",
    "Minor: Putting multiple layers on a map that come from different data sources. \n",
    "\n"
   ]
  },
  {
   "cell_type": "code",
   "execution_count": null,
   "id": "68bc12b5-3ca4-47ac-bb8e-de9288ef4dfe",
   "metadata": {},
   "outputs": [],
   "source": []
  }
 ],
 "metadata": {
  "kernelspec": {
   "display_name": "Python 3 (ipykernel)",
   "language": "python",
   "name": "python3"
  },
  "language_info": {
   "codemirror_mode": {
    "name": "ipython",
    "version": 3
   },
   "file_extension": ".py",
   "mimetype": "text/x-python",
   "name": "python",
   "nbconvert_exporter": "python",
   "pygments_lexer": "ipython3",
   "version": "3.9.6"
  }
 },
 "nbformat": 4,
 "nbformat_minor": 5
}
